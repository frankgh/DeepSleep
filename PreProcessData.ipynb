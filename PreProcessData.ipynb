{
 "cells": [
  {
   "cell_type": "code",
   "execution_count": 3,
   "metadata": {
    "collapsed": true
   },
   "outputs": [],
   "source": [
    "import os\n",
    "import glob\n",
    "import numpy as np"
   ]
  },
  {
   "cell_type": "code",
   "execution_count": 2,
   "metadata": {
    "collapsed": false
   },
   "outputs": [
    {
     "name": "stdout",
     "output_type": "stream",
     "text": [
      "Found 5 elements with stage 6\n",
      "Found 7 elements with stage 6\n",
      "Found 0 elements with stage 6\n",
      "Found 0 elements with stage 6\n",
      "Found 1 elements with stage 6\n",
      "Found 1 elements with stage 6\n",
      "Found 5 elements with stage 6\n",
      "Found 0 elements with stage 6\n",
      "Found 2 elements with stage 6\n",
      "Found 0 elements with stage 6\n",
      "Found 0 elements with stage 6\n",
      "Found 2 elements with stage 6\n",
      "Found 9 elements with stage 6\n",
      "Found 0 elements with stage 6\n",
      "Found 0 elements with stage 6\n",
      "Found 1 elements with stage 6\n",
      "Found 0 elements with stage 6\n",
      "Found 0 elements with stage 6\n",
      "Found 22 elements with stage 6\n",
      "Found 5 elements with stage 6\n"
     ]
    }
   ],
   "source": [
    "if __name__ == \"__main__\":\n",
    "    data_dir = '/home/afguerrerohernan/data/patients/'\n",
    "    data_dir_output = '/home/afguerrerohernan/data/patients_processed'\n",
    "    \n",
    "    for np_name in glob.glob(os.path.join(data_dir, '*.np[yz]')):\n",
    "        with np.load(np_name) as data:\n",
    "            i, = np.where(np.argmax(data['Y'], axis=1) == 5)\n",
    "            print 'Found %d elements with stage 6' % (len(i))\n",
    "            new_Y = np.delete(np.delete(data['Y'], i, axis=0), 5, axis=1)\n",
    "            new_X = np.delete(data['X'], i, axis=0)\n",
    "            new_np_name = os.path.join(data_dir_output, os.path.basename(np_name))\n",
    "            np.savez(new_np_name, X=new_X, Y=new_Y)"
   ]
  },
  {
   "cell_type": "code",
   "execution_count": 4,
   "metadata": {
    "collapsed": true
   },
   "outputs": [],
   "source": [
    "def unfold(data):\n",
    "    y = np.array(data[0]['Y'])\n",
    "    for item in data[1:]:\n",
    "        y = np.concatenate((y, item['Y']))\n",
    "    return y\n",
    "\n",
    "def load_data(path):\n",
    "    # Load all npz files from path\n",
    "    return np.array([np.load(np_name) for np_name in glob.glob(os.path.join(path, '*.np[yz]'))])"
   ]
  },
  {
   "cell_type": "code",
   "execution_count": 6,
   "metadata": {
    "collapsed": false
   },
   "outputs": [],
   "source": [
    "import sklearn\n",
    "data_dir_output = '/home/afguerrerohernan/data/patients_processed'\n",
    "data = load_data(data_dir_output)"
   ]
  },
  {
   "cell_type": "code",
   "execution_count": 33,
   "metadata": {
    "collapsed": true
   },
   "outputs": [],
   "source": [
    "y = unfold(data)"
   ]
  },
  {
   "cell_type": "code",
   "execution_count": 34,
   "metadata": {
    "collapsed": false
   },
   "outputs": [
    {
     "data": {
      "text/plain": [
       "(36269, 5)"
      ]
     },
     "execution_count": 34,
     "metadata": {},
     "output_type": "execute_result"
    }
   ],
   "source": [
    "y.shape"
   ]
  },
  {
   "cell_type": "code",
   "execution_count": 40,
   "metadata": {
    "collapsed": true
   },
   "outputs": [],
   "source": [
    "y_1 = np.argmax(y, axis=1)"
   ]
  },
  {
   "cell_type": "code",
   "execution_count": 41,
   "metadata": {
    "collapsed": false
   },
   "outputs": [],
   "source": [
    "class_weight = sklearn.utils.compute_class_weight('balanced', np.arange(5), y_1)"
   ]
  },
  {
   "cell_type": "code",
   "execution_count": 42,
   "metadata": {
    "collapsed": false
   },
   "outputs": [
    {
     "data": {
      "text/plain": [
       "array([ 2.69457652,  0.40896431,  1.27215012,  2.98019721,  0.94156282])"
      ]
     },
     "execution_count": 42,
     "metadata": {},
     "output_type": "execute_result"
    }
   ],
   "source": [
    "class_weight"
   ]
  },
  {
   "cell_type": "code",
   "execution_count": 20,
   "metadata": {
    "collapsed": false
   },
   "outputs": [
    {
     "data": {
      "text/plain": [
       "array([0, 0, 0, ..., 4, 3, 4])"
      ]
     },
     "execution_count": 20,
     "metadata": {},
     "output_type": "execute_result"
    }
   ],
   "source": [
    "y"
   ]
  },
  {
   "cell_type": "code",
   "execution_count": 38,
   "metadata": {
    "collapsed": false
   },
   "outputs": [
    {
     "ename": "ValueError",
     "evalue": "For multi-output, class_weight should be a list of dicts, or a valid string.",
     "output_type": "error",
     "traceback": [
      "\u001b[0;31m\u001b[0m",
      "\u001b[0;31mValueError\u001b[0mTraceback (most recent call last)",
      "\u001b[0;32m<ipython-input-38-f1fabc5cecf3>\u001b[0m in \u001b[0;36m<module>\u001b[0;34m()\u001b[0m\n\u001b[0;32m----> 1\u001b[0;31m \u001b[0mcw\u001b[0m \u001b[0;34m=\u001b[0m \u001b[0msklearn\u001b[0m\u001b[0;34m.\u001b[0m\u001b[0mutils\u001b[0m\u001b[0;34m.\u001b[0m\u001b[0mcompute_sample_weight\u001b[0m\u001b[0;34m(\u001b[0m\u001b[0;34m{\u001b[0m\u001b[0;36m0\u001b[0m\u001b[0;34m:\u001b[0m\u001b[0;36m0\u001b[0m\u001b[0;34m,\u001b[0m\u001b[0;36m1\u001b[0m\u001b[0;34m:\u001b[0m\u001b[0;36m1\u001b[0m\u001b[0;34m,\u001b[0m\u001b[0;36m2\u001b[0m\u001b[0;34m:\u001b[0m\u001b[0;36m2\u001b[0m\u001b[0;34m,\u001b[0m\u001b[0;36m3\u001b[0m\u001b[0;34m:\u001b[0m\u001b[0;36m3\u001b[0m\u001b[0;34m,\u001b[0m\u001b[0;36m4\u001b[0m\u001b[0;34m:\u001b[0m\u001b[0;36m4\u001b[0m\u001b[0;34m}\u001b[0m\u001b[0;34m,\u001b[0m \u001b[0my\u001b[0m\u001b[0;34m)\u001b[0m\u001b[0;34m\u001b[0m\u001b[0m\n\u001b[0m",
      "\u001b[0;32m/home/afguerrerohernan/anaconda2/lib/python2.7/site-packages/sklearn/utils/class_weight.pyc\u001b[0m in \u001b[0;36mcompute_sample_weight\u001b[0;34m(class_weight, y, indices)\u001b[0m\n\u001b[1;32m    133\u001b[0m         if (not hasattr(class_weight, \"__iter__\") or\n\u001b[1;32m    134\u001b[0m                 isinstance(class_weight, dict)):\n\u001b[0;32m--> 135\u001b[0;31m             raise ValueError(\"For multi-output, class_weight should be a \"\n\u001b[0m\u001b[1;32m    136\u001b[0m                              \"list of dicts, or a valid string.\")\n\u001b[1;32m    137\u001b[0m         \u001b[0;32mif\u001b[0m \u001b[0mlen\u001b[0m\u001b[0;34m(\u001b[0m\u001b[0mclass_weight\u001b[0m\u001b[0;34m)\u001b[0m \u001b[0;34m!=\u001b[0m \u001b[0mn_outputs\u001b[0m\u001b[0;34m:\u001b[0m\u001b[0;34m\u001b[0m\u001b[0m\n",
      "\u001b[0;31mValueError\u001b[0m: For multi-output, class_weight should be a list of dicts, or a valid string."
     ]
    }
   ],
   "source": [
    "cw = sklearn.utils.compute_sample_weight({0:0,1:1,2:2,3:3,4:4}, y)"
   ]
  },
  {
   "cell_type": "code",
   "execution_count": 36,
   "metadata": {
    "collapsed": false
   },
   "outputs": [
    {
     "data": {
      "text/plain": [
       "array([ 1.33069142,  1.33069142,  1.33069142, ...,  0.39557467,\n",
       "        1.48305114,  0.39557467])"
      ]
     },
     "execution_count": 36,
     "metadata": {},
     "output_type": "execute_result"
    }
   ],
   "source": [
    "cw"
   ]
  },
  {
   "cell_type": "code",
   "execution_count": null,
   "metadata": {
    "collapsed": true
   },
   "outputs": [],
   "source": []
  }
 ],
 "metadata": {
  "kernelspec": {
   "display_name": "Python 2",
   "language": "python",
   "name": "python2"
  },
  "language_info": {
   "codemirror_mode": {
    "name": "ipython",
    "version": 2
   },
   "file_extension": ".py",
   "mimetype": "text/x-python",
   "name": "python",
   "nbconvert_exporter": "python",
   "pygments_lexer": "ipython2",
   "version": "2.7.13"
  }
 },
 "nbformat": 4,
 "nbformat_minor": 2
}
